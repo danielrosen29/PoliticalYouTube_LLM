{
 "cells": [
  {
   "cell_type": "markdown",
   "metadata": {},
   "source": [
    "# 300_gpt_tuning_exploration\n",
    "\n",
    "> In this notebook we will fine-tune several more GPT3.5 models with different numbers of comments. "
   ]
  },
  {
   "cell_type": "code",
   "execution_count": 128,
   "metadata": {},
   "outputs": [],
   "source": [
    "import pandas as pd\n",
    "import numpy as np\n",
    "import seaborn as sb\n",
    "import matplotlib.pyplot as plt\n",
    "import openai\n",
    "import json\n",
    "from googleapiclient import discovery\n",
    "from googleapiclient.errors import HttpError\n"
   ]
  },
  {
   "cell_type": "markdown",
   "metadata": {},
   "source": [
    "Enable apis with keys. "
   ]
  },
  {
   "cell_type": "code",
   "execution_count": 129,
   "metadata": {},
   "outputs": [],
   "source": [
    "with open(\"C:/Users/danie/OneDrive/Desktop/perspective_api_key.txt\") as f:\n",
    "    api_key = f.readline()\n",
    "\n",
    "perspective_client = discovery.build(\n",
    "  \"commentanalyzer\",\n",
    "  \"v1alpha1\",\n",
    "  developerKey=api_key,\n",
    "  discoveryServiceUrl=\"https://commentanalyzer.googleapis.com/$discovery/rest?version=v1alpha1\",\n",
    "  static_discovery=False,\n",
    ")\n",
    "\n",
    "with open(\"C:/Users/danie/OneDrive/Desktop/openai_youtube_api_key.txt\") as f:\n",
    "    api_key = f.readline()\n",
    "\n",
    "openai.api_key = api_key"
   ]
  },
  {
   "cell_type": "markdown",
   "metadata": {},
   "source": [
    "Set up helper functions:"
   ]
  },
  {
   "cell_type": "code",
   "execution_count": 130,
   "metadata": {},
   "outputs": [],
   "source": [
    "# Quantifier \n",
    "def get_toxicity_score(comment):\n",
    "    analyze_request = {\n",
    "        'comment': { 'text': comment },\n",
    "        'requestedAttributes': {'TOXICITY': {}}\n",
    "    }\n",
    "    \n",
    "    try:\n",
    "        response = perspective_client.comments().analyze(body=analyze_request).execute()\n",
    "        return float(response['attributeScores']['TOXICITY']['summaryScore']['value'])\n",
    "    except HttpError as e:\n",
    "        return [e.resp.status]"
   ]
  },
  {
   "cell_type": "code",
   "execution_count": 132,
   "metadata": {},
   "outputs": [],
   "source": [
    "def format_comment_for_finetuning(row):\n",
    "    affil = row.affiliation\n",
    "    affil = 'conservative' if affil == 'R' else 'progressive'\n",
    "    title = row.video_title\n",
    "    desc = row.video_description\n",
    "    comment = row.comment_text\n",
    "    formatted = {\"messages\": [{\"role\": \"system\", \"content\": f\"PunditLLM is a {affil} american pundit who just watched the youtube video '{title}' with the description '{desc}'.\"}, {\"role\": \"user\", \"content\": \"Give your opinion on the video?\"}, {\"role\": \"assistant\", \"content\": comment}]}\n",
    "    return json.dumps(formatted)"
   ]
  },
  {
   "cell_type": "code",
   "execution_count": 133,
   "metadata": {},
   "outputs": [],
   "source": [
    "def create_training_file(df):\n",
    "    size = df.shape[0]\n",
    "    path = f'../data/cleaned/finetuning_research_size{size}_train.jsonl'\n",
    "    ft_train = open(path, mode='w')\n",
    "\n",
    "    for i in range(size):\n",
    "        row_dic = format_comment_for_finetuning(df.iloc[i,:])\n",
    "        ft_train.write(row_dic)\n",
    "        ft_train.write('\\n')\n",
    "    \n",
    "    print(f\"Successfully wrote size {size} training file.\")\n",
    "    \n",
    "    return path\n",
    "\n",
    "            "
   ]
  },
  {
   "cell_type": "code",
   "execution_count": 73,
   "metadata": {},
   "outputs": [
    {
     "data": {
      "text/plain": [
       "Index(['channel_id', 'channel_title', 'affiliation', 'video_id', 'video_title',\n",
       "       'video_description', 'comment_text'],\n",
       "      dtype='object')"
      ]
     },
     "execution_count": 73,
     "metadata": {},
     "output_type": "execute_result"
    }
   ],
   "source": [
    "comments_df = pd.read_csv(\"../data/cleaned/channel_subset_with_comments.csv\", index_col='comment_id')\n",
    "comments_df.columns"
   ]
  },
  {
   "cell_type": "code",
   "execution_count": 74,
   "metadata": {},
   "outputs": [
    {
     "name": "stdout",
     "output_type": "stream",
     "text": [
      "<class 'pandas.core.frame.DataFrame'>\n",
      "Index: 21718 entries, UgwObPP6aDo26a1ljL14AaABAg to UgyxikN9LBEXuZiVlj94AaABAg.9HejA80T9UZ9HfsKaGNIJW\n",
      "Data columns (total 7 columns):\n",
      " #   Column             Non-Null Count  Dtype \n",
      "---  ------             --------------  ----- \n",
      " 0   channel_id         21718 non-null  object\n",
      " 1   channel_title      21718 non-null  object\n",
      " 2   affiliation        21718 non-null  object\n",
      " 3   video_id           21718 non-null  object\n",
      " 4   video_title        21718 non-null  object\n",
      " 5   video_description  21718 non-null  object\n",
      " 6   comment_text       21718 non-null  object\n",
      "dtypes: object(7)\n",
      "memory usage: 1.3+ MB\n",
      "None\n",
      "<class 'pandas.core.frame.DataFrame'>\n",
      "Index: 3367 entries, Ugy-ppjmdn6c0XdJ1YV4AaABAg to Ugzpilu8e9AhBtMmKZV4AaABAg.9Gk4gGMp-TK9GkC1r3dBtJ\n",
      "Data columns (total 7 columns):\n",
      " #   Column             Non-Null Count  Dtype \n",
      "---  ------             --------------  ----- \n",
      " 0   channel_id         3367 non-null   object\n",
      " 1   channel_title      3367 non-null   object\n",
      " 2   affiliation        3367 non-null   object\n",
      " 3   video_id           3367 non-null   object\n",
      " 4   video_title        3367 non-null   object\n",
      " 5   video_description  3367 non-null   object\n",
      " 6   comment_text       3367 non-null   object\n",
      "dtypes: object(7)\n",
      "memory usage: 210.4+ KB\n",
      "None\n"
     ]
    }
   ],
   "source": [
    "# Right data will be from Turning Point USA\n",
    "right_comments = comments_df.loc[comments_df.channel_title == 'Turning Point USA']\n",
    "# Left comments will be from The Young Turks \n",
    "left_comments =comments_df.loc[comments_df.channel_title == \"TYT's The Conversation\"]\n",
    "\n",
    "print(right_comments.info())\n",
    "print(left_comments.info())"
   ]
  },
  {
   "cell_type": "markdown",
   "metadata": {},
   "source": [
    "Now we will break those down into different size training sets. "
   ]
  },
  {
   "cell_type": "code",
   "execution_count": 75,
   "metadata": {},
   "outputs": [
    {
     "name": "stdout",
     "output_type": "stream",
     "text": [
      "Successfully wrote size 20 training file.\n",
      "Successfully wrote size 200 training file.\n",
      "Successfully wrote size 2000 training file.\n",
      "['../data/cleaned/finetuning_research_size20_train.jsonl', '../data/cleaned/finetuning_research_size200_train.jsonl', '../data/cleaned/finetuning_research_size2000_train.jsonl']\n"
     ]
    }
   ],
   "source": [
    "training_sizes = [10, 100, 1000]\n",
    "created_files = []\n",
    "for N in training_sizes:\n",
    "    l = left_comments.sample(n=N)\n",
    "    r = right_comments.sample(n=N)\n",
    "    combined = pd.concat([l, r])\n",
    "    \n",
    "    created_files.append(create_training_file(combined))\n",
    "    \n",
    "print(created_files)"
   ]
  },
  {
   "cell_type": "code",
   "execution_count": 76,
   "metadata": {},
   "outputs": [],
   "source": [
    "file_api_ids = []\n",
    "for f,s in zip(created_files, training_sizes):\n",
    "    train_response = openai.File.create(\n",
    "        file=open(f, \"rb\"),\n",
    "        purpose='fine-tune',\n",
    "        user_provided_filename=f'v2_train_size{s*2}'\n",
    "    )\n",
    "    file_api_ids.append(train_response['id'])\n"
   ]
  },
  {
   "cell_type": "markdown",
   "metadata": {},
   "source": [
    "#### Here we go! Let's fine tune some models."
   ]
  },
  {
   "cell_type": "code",
   "execution_count": 77,
   "metadata": {},
   "outputs": [],
   "source": [
    "job_ids = []\n",
    "for f_id in file_api_ids:\n",
    "    response_1 = openai.FineTuningJob.create(\n",
    "        training_file=f_id,\n",
    "        model=\"gpt-3.5-turbo\"\n",
    "    )\n",
    "    response_2 = openai.FineTuningJob.retrieve(response_1['id'])\n",
    "    job_ids.append(response_2['id'])"
   ]
  },
  {
   "cell_type": "code",
   "execution_count": 78,
   "metadata": {},
   "outputs": [
    {
     "data": {
      "text/plain": [
       "['ftjob-OF0WQ6iELni20Gctq61v0wAr',\n",
       " 'ftjob-1EDMEwy3uXTwaopHtdH0OR2h',\n",
       " 'ftjob-CD001PaZrsRc30OW4XF463rJ']"
      ]
     },
     "execution_count": 78,
     "metadata": {},
     "output_type": "execute_result"
    }
   ],
   "source": [
    "job_ids"
   ]
  },
  {
   "cell_type": "code",
   "execution_count": 79,
   "metadata": {},
   "outputs": [
    {
     "name": "stdout",
     "output_type": "stream",
     "text": [
      "{\n",
      "  \"object\": \"fine_tuning.job\",\n",
      "  \"id\": \"ftjob-OF0WQ6iELni20Gctq61v0wAr\",\n",
      "  \"model\": \"gpt-3.5-turbo-0613\",\n",
      "  \"created_at\": 1697230299,\n",
      "  \"finished_at\": null,\n",
      "  \"fine_tuned_model\": null,\n",
      "  \"organization_id\": \"org-4RgDbz9lzSRT5FGez8Jraqy0\",\n",
      "  \"result_files\": [],\n",
      "  \"status\": \"validating_files\",\n",
      "  \"validation_file\": null,\n",
      "  \"training_file\": \"file-yWBzo6sM2IZoTymCR8EeUfJQ\",\n",
      "  \"hyperparameters\": {\n",
      "    \"n_epochs\": \"auto\"\n",
      "  },\n",
      "  \"trained_tokens\": null,\n",
      "  \"error\": null\n",
      "}\n",
      "{\n",
      "  \"object\": \"fine_tuning.job\",\n",
      "  \"id\": \"ftjob-1EDMEwy3uXTwaopHtdH0OR2h\",\n",
      "  \"model\": \"gpt-3.5-turbo-0613\",\n",
      "  \"created_at\": 1697230300,\n",
      "  \"finished_at\": null,\n",
      "  \"fine_tuned_model\": null,\n",
      "  \"organization_id\": \"org-4RgDbz9lzSRT5FGez8Jraqy0\",\n",
      "  \"result_files\": [],\n",
      "  \"status\": \"validating_files\",\n",
      "  \"validation_file\": null,\n",
      "  \"training_file\": \"file-LaEVU6y2QxYXkmYVqmwwmbRt\",\n",
      "  \"hyperparameters\": {\n",
      "    \"n_epochs\": \"auto\"\n",
      "  },\n",
      "  \"trained_tokens\": null,\n",
      "  \"error\": null\n",
      "}\n",
      "{\n",
      "  \"object\": \"fine_tuning.job\",\n",
      "  \"id\": \"ftjob-CD001PaZrsRc30OW4XF463rJ\",\n",
      "  \"model\": \"gpt-3.5-turbo-0613\",\n",
      "  \"created_at\": 1697230301,\n",
      "  \"finished_at\": null,\n",
      "  \"fine_tuned_model\": null,\n",
      "  \"organization_id\": \"org-4RgDbz9lzSRT5FGez8Jraqy0\",\n",
      "  \"result_files\": [],\n",
      "  \"status\": \"validating_files\",\n",
      "  \"validation_file\": null,\n",
      "  \"training_file\": \"file-4QxYg83ITAQ2X6L1fcZ4XBLv\",\n",
      "  \"hyperparameters\": {\n",
      "    \"n_epochs\": \"auto\"\n",
      "  },\n",
      "  \"trained_tokens\": null,\n",
      "  \"error\": null\n",
      "}\n"
     ]
    }
   ],
   "source": [
    "for j_id in job_ids:\n",
    "    print(openai.FineTuningJob.retrieve(j_id))"
   ]
  },
  {
   "cell_type": "markdown",
   "metadata": {},
   "source": [
    "Interestingly, it appears openai has changed their policy on what type of content you can fine tune models on. It appears, that our largest new dataset failed to fine-tune because of unacceptable comments. Let's see what type of comment fails to pass."
   ]
  },
  {
   "cell_type": "code",
   "execution_count": 80,
   "metadata": {},
   "outputs": [
    {
     "name": "stdout",
     "output_type": "stream",
     "text": [
      "Line 1311: {'messages': [{'role': 'system', 'content': \"PunditLLM is a conservative american pundit who just watched the youtube video 'Watch This Before You Consider Another Lockdown' with the description 'This Is SO IMPORTANT. You Need To Check Out What Charlie Kirk Is Saying About The Tyrannical Lockdown Orders! #BigGovSucks\\n#Conservative #TPUSA #TurningPointUSA #BigGovSucks\\n'.\"}, {'role': 'user', 'content': 'Give your opinion on the video?'}, {'role': 'assistant', 'content': 'In 2020, the flu killed around 24,000 to 62,000 people worldwide. Can you guess how many people died of covid in 2020? 1.8 million people worldwide. So yes, this is “definitely the flu”'}]}\n",
      "Line 1312: {'messages': [{'role': 'system', 'content': 'PunditLLM is a conservative american pundit who just watched the youtube video \\'Candace Owens Nukes A White Liberal With Facts | Do White Liberals Speak For Black Americans?\\' with the description \\'Candace Owens and Charlie Kirk confront an angry white liberal and tell him to stop speaking for black Americans. This exchange over race and \"white privilege\" in America gets heated during this Turning Point USA event at the University of Hawaii in September 2018.\\n#Conservative #TPUSA #TurningPointUSA #BigGovSucks #CandaceOwens #CharlieKirk\\n\\'.'}, {'role': 'user', 'content': 'Give your opinion on the video?'}, {'role': 'assistant', 'content': \"Oh hyee-el ya!!! Knockn' em' OUT!!!! Malcolm X was absolutely 100% right about the white lib\"}]}\n",
      "Line 1316: {'messages': [{'role': 'system', 'content': \"PunditLLM is a conservative american pundit who just watched the youtube video 'Lockdowns Are Deadly For Young People' with the description 'YES, Charlie Kirk! Lockdowns Are Having SO MANY HORRIBLE Effects On America's Youth! #BigGovSucks\\n#Conservative #TPUSA #TurningPointUSA #BigGovSucks\\n'.\"}, {'role': 'user', 'content': 'Give your opinion on the video?'}, {'role': 'assistant', 'content': 'I’ve had no physical final exams, no graduation, no summer internship in Asia, no chance of moving to the USA from Europe - all because of this BOLLOCKS “deadly virus”. But I thank God each and every day that my family, friends and I are alright and healthy, we have each other and we are trying to laugh at the absurdity of this global charade.'}]}\n",
      "Line 1330: {'messages': [{'role': 'system', 'content': \"PunditLLM is a conservative american pundit who just watched the youtube video 'Charlie Kirk Skewers Climate Change Alarmism | Is Climate Change A Real Threat?' with the description 'In this clip from Turning Point USA, Charlie Kirk gets confronted by a climate change alarmist, and he uses facts to show that there is more debate to be had.\\n#Conservative #TPUSA #TurningPointUSA #BigGovSucks #CharlieKirk #CandaceOwens #ClimateChange #ClimateChangeAlarmism\\n'.\"}, {'role': 'user', 'content': 'Give your opinion on the video?'}, {'role': 'assistant', 'content': 'maybe you should come to eastern Canada and see the effects of climate change'}]}\n",
      "Line 1337: {'messages': [{'role': 'system', 'content': 'PunditLLM is a conservative american pundit who just watched the youtube video \\'Kayleigh McEnany Roasts AOC | Dismantling the Progressive Ideology\\' with the description \\'In this clip from Turning Point USA, White House Press Secretary Kayleigh McEnany completely roasts Alexandria Ocasio Cortez using facts and logic. She explains why AOC\\'s progressive ideology is actually very dangerous. Women\\'s Leadership Summit 2018.\\n0:00 Alexandria Ocasio-Cortez\\n0:23 \"The world will end in 12 years.\"\\n0:38 AOC can\\'t name the 3 branches of government\\n1:01 \"A system that allows billionaires to exist is immoral.\"\\n2:04 More from Turning Point USA\\n#Conservative #TPUSA #TurningPointUSA #BigGovSucks #KayleighMcEnany #AOC #Progessivism #EatTheRich #ClimateChangeHoax\\n\\'.'}, {'role': 'user', 'content': 'Give your opinion on the video?'}, {'role': 'assistant', 'content': \"She's a good speaker to bad she's with the loser Republican Party. Now she can be a stay at home mom because no one is going to hire her.\"}]}\n",
      "Line 1338: {'messages': [{'role': 'system', 'content': 'PunditLLM is a conservative american pundit who just watched the youtube video \\'Charlie Kirk And Candace Owens Debunk \"White Privilege\"  | Angry Leftist Gets OWNED\\' with the description \\'Charlie Kirk and Candace Owens dismantle arguments about \"white privilege\" from an angry racial justice warrior during this Turning Point USA event in Hawaii. Charlie and Candace demonstrate the hypocritical thinking at the heart of leftism.\\n#Conservative #TPUSA #TurningPointUSA #BigGovSucks #CharlieKirk #CandaceOwens #BlackLivesMatter #WhitePrivilege\\n\\'.'}, {'role': 'user', 'content': 'Give your opinion on the video?'}, {'role': 'assistant', 'content': 'Time for a mic timer. Helped in the presidential debate, will help in this type debate as well'}]}\n",
      "Line 1342: {'messages': [{'role': 'system', 'content': \"PunditLLM is a conservative american pundit who just watched the youtube video 'Kayleigh McEnany Triggers Liberals To Their Face | Kayleigh's Most SAVAGE Moment' with the description 'Kayleigh McEnany gets introduced at Turning Point USA's Young Women's Leadership Summit 2018 to a clip of one of her most savage moments on CNN. McEnany gives a behind the scenes look into her most savage thug life moment of all time.\\n#Conservative #TPUSA #TurningPointUSA #BigGovSucks #KayleighMcEnany #ConservativeWomen\\n'.\"}, {'role': 'user', 'content': 'Give your opinion on the video?'}, {'role': 'assistant', 'content': 'Love how she has to have turning point videos that are ADS'}]}\n",
      "Line 1348: {'messages': [{'role': 'system', 'content': 'PunditLLM is a conservative american pundit who just watched the youtube video \\'Candace Owens Nukes A White Liberal With Facts | Do White Liberals Speak For Black Americans?\\' with the description \\'Candace Owens and Charlie Kirk confront an angry white liberal and tell him to stop speaking for black Americans. This exchange over race and \"white privilege\" in America gets heated during this Turning Point USA event at the University of Hawaii in September 2018.\\n#Conservative #TPUSA #TurningPointUSA #BigGovSucks #CandaceOwens #CharlieKirk\\n\\'.'}, {'role': 'user', 'content': 'Give your opinion on the video?'}, {'role': 'assistant', 'content': \"God bless Candace.  I don't know how she has the strength to constantly deal with these people.\"}]}\n"
     ]
    }
   ],
   "source": [
    "line_numbers = [1311, 1312, 1316, 1330, 1337, 1338, 1342, 1348]\n",
    "line_numbers_set = set(line_numbers)  # Convert to set for faster lookup\n",
    "path = '../data/cleaned/finetuning_research_size2000_train.jsonl'\n",
    "with open(path, 'r') as f:\n",
    "    for i, line in enumerate(f, start=1):\n",
    "        if i in line_numbers_set:\n",
    "            json_obj = json.loads(line)\n",
    "            print(f\"Line {i}: {json_obj}\")"
   ]
  },
  {
   "cell_type": "markdown",
   "metadata": {},
   "source": [
    "These do seem like some racy topics and comments. I wonder how they determine what is passable? I can't find exact documentation. Let's do a little bit of exploration on which side these topics are coming from, and their toxicity scores. "
   ]
  },
  {
   "cell_type": "code",
   "execution_count": 90,
   "metadata": {},
   "outputs": [],
   "source": [
    "from requests.exceptions import HTTPError\n",
    "\n",
    "flagged_lines = [6, 8, 9, 10, 12, 14, 16, 20, 24, 28, 32, 33, 35, 41, 44, 45, 46, 51, 52, 64, 65, 66, 69, 72, 81, 82, 85, 96, 104, 108, 112, 113, 114, 125, 131, 135, 136, 139, 150, 153, 154, 157, 163, 164, 185, 189, 192, 198, 199, 207, 219, 221, 224, 234, 239, 243, 244, 247, 248, 251, 252, 255, 260, 266, 268, 269, 270, 273, 274, 275, 280, 284, 285, 287, 290, 307, 313, 314, 321, 330, 331, 334, 337, 339, 340, 343, 344, 345, 350, 351, 352, 353, 357, 358, 359, 364, 366, 368, 372, 373, 374, 379, 380, 384, 392, 393, 394, 398, 407, 410, 413, 417, 424, 425, 435, 439, 440, 442, 449, 451, 453, 454, 458, 464, 466, 473, 478, 481, 485, 515, 523, 526, 538, 540, 545, 546, 548, 558, 559, 561, 563, 564, 565, 566, 571, 578, 581, 595, 602, 606, 613, 617, 618, 625, 638, 643, 644, 648, 652, 657, 671, 673, 678, 679, 690, 697, 700, 702, 706, 713, 715, 720, 723, 726, 729, 730, 751, 752, 754, 760, 762, 766, 767, 768, 772, 781, 785, 786, 788, 790, 792, 794, 800, 804, 807, 809, 811, 816, 823, 829, 831, 836, 841, 843, 846, 852, 853, 859, 866, 870, 872, 874, 875, 879, 890, 891, 895, 907, 908, 910, 912, 913, 919, 925, 928, 935, 936, 937, 947, 960, 963, 982, 985, 990, 995, 996, 1000, 1005, 1006, 1007, 1015, 1017, 1021, 1028, 1030, 1031, 1032, 1039, 1044, 1045, 1051, 1056, 1057, 1060, 1065, 1069, 1070, 1079, 1081, 1083, 1084, 1088, 1094, 1100, 1104, 1105, 1110, 1112, 1113, 1114, 1118, 1121, 1122, 1131, 1135, 1136, 1150, 1151, 1152, 1156, 1157, 1161, 1163, 1167, 1168, 1174, 1176, 1177, 1179, 1186, 1193, 1194, 1198, 1199, 1200, 1203, 1204, 1205, 1215, 1218, 1220, 1225, 1226, 1229, 1230, 1233, 1238, 1239, 1242, 1245, 1254, 1257, 1258, 1260, 1266, 1267, 1272, 1282, 1297, 1299, 1300, 1308, 1311, 1312, 1316, 1330, 1337, 1338, 1342, 1348, 1349, 1356, 1358, 1365, 1367, 1370, 1371, 1373, 1375, 1377, 1378, 1380, 1382, 1383, 1386, 1388, 1389, 1395, 1400, 1401, 1404, 1406, 1411, 1433, 1434, 1435, 1439, 1443, 1447, 1451, 1453, 1461, 1463, 1465, 1470, 1477, 1479, 1490, 1491, 1492, 1494, 1496, 1508, 1516, 1517, 1518, 1521, 1525, 1526, 1534, 1535, 1537, 1542, 1545, 1549, 1550, 1553, 1555, 1557, 1559, 1560, 1561, 1562, 1563, 1564, 1569, 1584, 1585, 1586, 1587, 1591, 1592, 1593, 1597, 1601, 1602, 1606, 1609, 1611, 1612, 1615, 1627, 1628, 1629, 1639, 1640, 1643, 1651, 1653, 1656, 1665, 1669, 1673, 1676, 1680, 1681, 1684, 1690, 1700, 1701, 1707, 1711, 1714, 1721, 1722, 1724, 1729, 1730, 1732, 1735, 1744, 1745, 1746, 1754, 1756, 1757, 1762, 1768, 1769, 1771, 1772, 1775, 1787, 1794, 1799, 1803, 1809, 1810, 1814, 1817, 1822, 1827, 1828, 1831, 1837, 1841, 1846, 1849, 1853, 1854, 1861, 1863, 1864, 1868, 1872, 1874, 1875, 1882, 1884, 1885, 1889, 1897, 1898, 1899, 1901, 1906, 1907, 1920, 1922, 1924, 1925, 1926, 1932, 1935, 1937, 1938, 1939, 1943, 1948, 1949, 1952, 1955, 1967, 1969, 1983, 1992, 1999]\n",
    "flagged_lines_set = set(flagged_lines)\n",
    "left_scores = []\n",
    "right_scores = []\n",
    "with open(path, 'r') as f:\n",
    "    for i, line in enumerate(f, start=1):\n",
    "        if i in flagged_lines_set:\n",
    "            json_obj = json.loads(line)\n",
    "            role = 'right' if json_obj['messages'][0]['content'].split(' ')[3] == 'conservative' else 'left'\n",
    "            text = json_obj['messages'][2]['content']\n",
    "            score = get_toxicity_score(text)\n",
    "            if type(score) == list:\n",
    "                error = score[0]\n",
    "                score = -1\n",
    "            if role == 'right':\n",
    "                right_scores.append(score)\n",
    "            else:\n",
    "                left_scores.append(score)\n",
    "            \n"
   ]
  },
  {
   "cell_type": "code",
   "execution_count": 92,
   "metadata": {},
   "outputs": [
    {
     "data": {
      "text/plain": [
       "array([0.48141238, 0.02096063, 0.06579731, 0.29771072, 0.27750343,\n",
       "       0.39915034, 0.3389984 , 0.4574824 , 0.37955463, 0.09872158,\n",
       "       0.0248496 , 0.25084448, 0.16765249, 0.7510937 , 0.85333383,\n",
       "       0.51869136, 0.4826145 , 0.09191322, 0.02390682, 0.43475235,\n",
       "       0.5779532 , 0.47173777])"
      ]
     },
     "execution_count": 92,
     "metadata": {},
     "output_type": "execute_result"
    }
   ],
   "source": [
    "np.array(right_scores)[np.where(np.array(right_scores) != -1)[0]]"
   ]
  },
  {
   "cell_type": "code",
   "execution_count": 96,
   "metadata": {},
   "outputs": [],
   "source": [
    "num_left_invalid = len(left_scores)\n",
    "num_right_invalid = len(right_scores)\n",
    "\n",
    "num_left_assessable = len(np.where(np.array(left_scores) != -1)[0].tolist())\n",
    "num_right_assessable = len(np.where(np.array(right_scores) != -1)[0].tolist())\n",
    "\n",
    "mean_toxicity_left = np.mean(np.array(left_scores)[np.where(np.array(left_scores) != -1)[0]])\n",
    "mean_toxicity_right = np.mean(np.array(right_scores)[np.where(np.array(right_scores) != -1)[0]])"
   ]
  },
  {
   "cell_type": "code",
   "execution_count": 97,
   "metadata": {},
   "outputs": [
    {
     "name": "stdout",
     "output_type": "stream",
     "text": [
      "Total left invalid lines: 237\n",
      "Total left lines which could be assessed for toxicity: 135\n",
      "Average toxicity score for left lines able to be assesed: 0.24766979662222227\n",
      "\n",
      "Total right invalid lines: 270\n",
      "Total right lines which could be assessed for toxicity: 22\n",
      "Average toxicity score for right lines able to be assesed: 0.33939250640909085\n"
     ]
    }
   ],
   "source": [
    "print(\"Total left invalid lines:\", num_left_invalid)\n",
    "print(\"Total left lines which could be assessed for toxicity:\", num_left_assessable)\n",
    "print(\"Average toxicity score for left lines able to be assesed:\", mean_toxicity_left)\n",
    "print()\n",
    "print(\"Total right invalid lines:\", num_right_invalid)\n",
    "print(\"Total right lines which could be assessed for toxicity:\", num_right_assessable)\n",
    "print(\"Average toxicity score for right lines able to be assesed:\", mean_toxicity_right)"
   ]
  },
  {
   "cell_type": "code",
   "execution_count": 108,
   "metadata": {},
   "outputs": [
    {
     "data": {
      "image/png": "[encoded data removed]",
      "text/plain": [
       "<Figure size 640x480 with 2 Axes>"
      ]
     },
     "metadata": {},
     "output_type": "display_data"
    }
   ],
   "source": [
    "# Bar Chart\n",
    "labels = ['Left', 'Right']\n",
    "invalid_counts = [num_left_invalid, num_right_invalid]\n",
    "valid_counts = [num_left_assessable, num_right_assessable]\n",
    "avg_toxicity = [mean_toxicity_left, mean_toxicity_right]\n",
    "\n",
    "x = np.arange(len(labels))\n",
    "\n",
    "width = 0.3\n",
    "\n",
    "fig, ax1 = plt.subplots()\n",
    "\n",
    "color = 'tab:red'\n",
    "ax1.set_xlabel('Group')\n",
    "ax1.set_ylabel('Number of Lines', color=color)\n",
    "ax1.bar(x - width/2, invalid_counts, width, color='r', label='Invalid Lines')\n",
    "ax1.bar(x + width/2, valid_counts, width, color='g', label='Lines Assessable For Toxicity')\n",
    "ax1.tick_params(axis='y', labelcolor=color)\n",
    "ax1.set_xticks(x)\n",
    "ax1.set_xticklabels(labels)\n",
    "\n",
    "ax2 = ax1.twinx()\n",
    "color = 'tab:blue'\n",
    "ax2.set_ylabel('Avg Toxicity', color=color)\n",
    "ax2.bar(x + width*1.5, avg_toxicity, width, color='b', label='Avg Toxicity')\n",
    "ax2.tick_params(axis='y', labelcolor=color)\n",
    "\n",
    "fig.tight_layout()\n",
    "fig.legend(loc=\"upper left\", bbox_to_anchor=(0.1, 0))\n",
    "plt.title('Comparison of Invalid Lines, Valid Lines, and Avg Toxicity for Left and Right')\n",
    "plt.show()\n"
   ]
  },
  {
   "cell_type": "markdown",
   "metadata": {},
   "source": [
    "Since it appears that about half of the comments are not acceptable for GPT fine-tuning we are going to create a deta set 3000 on either side, then upload it and hand pick which comments are acceptable after uploading to create a the 2000 size dataset. "
   ]
  },
  {
   "cell_type": "code",
   "execution_count": 110,
   "metadata": {},
   "outputs": [
    {
     "name": "stdout",
     "output_type": "stream",
     "text": [
      "Successfully wrote size 6000 training file.\n"
     ]
    }
   ],
   "source": [
    "l = left_comments.sample(n=3000)\n",
    "r = right_comments.sample(n=3000)\n",
    "combined = pd.concat([l, r])\n",
    "\n",
    "size6000_path = create_training_file(combined)"
   ]
  },
  {
   "cell_type": "code",
   "execution_count": 114,
   "metadata": {},
   "outputs": [
    {
     "data": {
      "text/plain": [
       "'file-L7EACQIwHOH1NV79hsSTk5Ml'"
      ]
     },
     "execution_count": 114,
     "metadata": {},
     "output_type": "execute_result"
    }
   ],
   "source": [
    "train_response = openai.File.create(\n",
    "        file=open(size6000_path, \"rb\"),\n",
    "        purpose='fine-tune',\n",
    "        user_provided_filename=f'v2_train_size{6000}'\n",
    ")\n",
    "\n",
    "size6000_file_id = train_response['id']\n",
    "size6000_file_id"
   ]
  },
  {
   "cell_type": "code",
   "execution_count": 116,
   "metadata": {},
   "outputs": [],
   "source": [
    "response_for_size_6000 = openai.FineTuningJob.create(\n",
    "        training_file=size6000_file_id,\n",
    "        model=\"gpt-3.5-turbo\"\n",
    ")"
   ]
  },
  {
   "cell_type": "code",
   "execution_count": 119,
   "metadata": {},
   "outputs": [
    {
     "data": {
      "text/plain": [
       "<FineTuningJob fine_tuning.job id=ftjob-D20R5eCfkaYEkztHhdttf3ct at 0x2228dd64360> JSON: {\n",
       "  \"object\": \"fine_tuning.job\",\n",
       "  \"id\": \"ftjob-D20R5eCfkaYEkztHhdttf3ct\",\n",
       "  \"model\": \"gpt-3.5-turbo-0613\",\n",
       "  \"created_at\": 1697232789,\n",
       "  \"finished_at\": null,\n",
       "  \"fine_tuned_model\": null,\n",
       "  \"organization_id\": \"org-4RgDbz9lzSRT5FGez8Jraqy0\",\n",
       "  \"result_files\": [],\n",
       "  \"status\": \"failed\",\n",
       "  \"validation_file\": null,\n",
       "  \"training_file\": \"file-L7EACQIwHOH1NV79hsSTk5Ml\",\n",
       "  \"hyperparameters\": {\n",
       "    \"n_epochs\": \"auto\"\n",
       "  },\n",
       "  \"trained_tokens\": null,\n",
       "  \"error\": {\n",
       "    \"code\": \"invalid_training_file\",\n",
       "    \"param\": \"training_file\",\n",
       "    \"message\": \"The job failed due to an invalid training file\"\n",
       "  }\n",
       "}"
      ]
     },
     "execution_count": 119,
     "metadata": {},
     "output_type": "execute_result"
    }
   ],
   "source": [
    "ftjob_response_for_size_6000 = openai.FineTuningJob.retrieve(response_for_size_6000['id'])\n",
    "ftjob_response_for_size_6000"
   ]
  },
  {
   "cell_type": "code",
   "execution_count": 120,
   "metadata": {},
   "outputs": [],
   "source": [
    "invalid_examples = [1, 4, 6, 17, 20, 22, 36, 45, 49, 68, 71, 75, 77, 80, 90, 97, 106, 114, 120, 121, 130, 137, 141, 142, 146, 152, 153, 159, 160, 163, 164, 168, 170, 172, 191, 193, 205, 209, 210, 212, 234, 237, 240, 241, 250, 252, 253, 261, 262, 265, 272, 274, 277, 278, 279, 282, 288, 302, 310, 314, 317, 319, 325, 327, 334, 338, 351, 358, 359, 360, 368, 374, 378, 379, 380, 385, 386, 389, 391, 392, 412, 415, 419, 430, 437, 439, 440, 447, 455, 456, 460, 464, 467, 475, 479, 484, 493, 499, 505, 509, 517, 531, 538, 540, 543, 546, 547, 548, 549, 550, 553, 556, 565, 571, 582, 586, 593, 614, 615, 620, 622, 625, 635, 638, 642, 643, 646, 651, 652, 659, 662, 667, 669, 674, 681, 689, 698, 702, 709, 728, 729, 730, 747, 750, 764, 766, 768, 772, 782, 785, 786, 787, 795, 806, 816, 817, 821, 823, 828, 835, 850, 855, 856, 862, 863, 865, 868, 875, 877, 881, 885, 886, 889, 890, 897, 899, 903, 905, 908, 914, 915, 916, 925, 930, 937, 946, 948, 950, 955, 957, 958, 963, 967, 969, 974, 975, 983, 985, 988, 990, 991, 993, 994, 1002, 1006, 1010, 1012, 1013, 1014, 1020, 1024, 1026, 1033, 1037, 1040, 1044, 1052, 1064, 1070, 1080, 1082, 1083, 1085, 1098, 1109, 1110, 1111, 1120, 1122, 1127, 1128, 1129, 1139, 1149, 1153, 1155, 1160, 1164, 1167, 1169, 1172, 1174, 1176, 1180, 1184, 1186, 1189, 1190, 1197, 1213, 1214, 1219, 1220, 1222, 1230, 1235, 1242, 1246, 1247, 1248, 1252, 1253, 1258, 1265, 1274, 1282, 1284, 1292, 1293, 1295, 1296, 1302, 1304, 1313, 1316, 1322, 1327, 1332, 1334, 1339, 1340, 1347, 1349, 1352, 1356, 1359, 1362, 1366, 1367, 1368, 1372, 1377, 1392, 1394, 1397, 1405, 1407, 1413, 1423, 1425, 1436, 1439, 1446, 1449, 1452, 1460, 1465, 1466, 1471, 1475, 1494, 1498, 1499, 1500, 1502, 1509, 1515, 1523, 1525, 1527, 1552, 1559, 1562, 1564, 1568, 1580, 1581, 1586, 1589, 1590, 1594, 1596, 1597, 1598, 1599, 1601, 1604, 1606, 1609, 1615, 1619, 1622, 1623, 1625, 1632, 1634, 1635, 1642, 1653, 1657, 1658, 1660, 1663, 1667, 1668, 1680, 1685, 1686, 1691, 1697, 1702, 1706, 1708, 1712, 1717, 1723, 1727, 1734, 1736, 1740, 1742, 1744, 1747, 1751, 1752, 1753, 1756, 1761, 1766, 1769, 1774, 1776, 1781, 1783, 1793, 1794, 1796, 1804, 1806, 1807, 1808, 1811, 1813, 1827, 1829, 1837, 1839, 1840, 1841, 1845, 1848, 1850, 1863, 1865, 1873, 1874, 1894, 1896, 1901, 1906, 1908, 1911, 1913, 1914, 1921, 1924, 1931, 1932, 1934, 1935, 1938, 1940, 1956, 1959, 1969, 1971, 1972, 1980, 1986, 1987, 1994, 1995, 1997, 2002, 2005, 2007, 2009, 2015, 2017, 2021, 2037, 2040, 2041, 2042, 2047, 2053, 2058, 2064, 2069, 2076, 2080, 2082, 2097, 2100, 2108, 2114, 2117, 2133, 2138, 2139, 2150, 2160, 2161, 2163, 2167, 2169, 2172, 2177, 2178, 2180, 2185, 2191, 2208, 2219, 2221, 2226, 2236, 2237, 2243, 2251, 2257, 2262, 2277, 2279, 2284, 2285, 2286, 2287, 2289, 2301, 2303, 2305, 2306, 2310, 2314, 2315, 2317, 2323, 2332, 2335, 2338, 2340, 2341, 2346, 2348, 2351, 2356, 2361, 2368, 2377, 2378, 2383, 2384, 2389, 2390, 2392, 2395, 2396, 2399, 2401, 2404, 2406, 2414, 2417, 2421, 2425, 2434, 2437, 2444, 2446, 2454, 2463, 2468, 2475, 2476, 2477, 2480, 2489, 2495, 2497, 2498, 2499, 2506, 2507, 2512, 2515, 2517, 2518, 2520, 2523, 2525, 2527, 2537, 2544, 2549, 2550, 2552, 2560, 2561, 2563, 2566, 2568, 2575, 2581, 2584, 2601, 2603, 2607, 2609, 2610, 2612, 2615, 2624, 2631, 2640, 2649, 2661, 2667, 2672, 2676, 2697, 2700, 2701, 2704, 2706, 2709, 2713, 2718, 2723, 2726, 2732, 2735, 2738, 2742, 2744, 2745, 2747, 2751, 2766, 2771, 2778, 2786, 2787, 2796, 2797, 2801, 2807, 2810, 2813, 2821, 2831, 2833, 2834, 2840, 2844, 2846, 2849, 2851, 2852, 2854, 2863, 2871, 2873, 2876, 2877, 2885, 2887, 2888, 2889, 2895, 2898, 2901, 2906, 2915, 2919, 2934, 2938, 2943, 2944, 2948, 2956, 2958, 2959, 2960, 2961, 2962, 2970, 2973, 2976, 2982, 2983, 2984, 2986, 2990, 2999, 3000, 3003, 3008, 3010, 3011, 3013, 3016, 3018, 3023, 3027, 3030, 3041, 3042, 3056, 3060, 3061, 3063, 3067, 3068, 3071, 3076, 3079, 3097, 3099, 3104, 3108, 3109, 3110, 3111, 3117, 3121, 3123, 3132, 3133, 3137, 3139, 3147, 3152, 3154, 3163, 3178, 3182, 3186, 3187, 3189, 3193, 3206, 3207, 3214, 3215, 3216, 3225, 3226, 3234, 3246, 3263, 3269, 3280, 3285, 3290, 3297, 3299, 3302, 3305, 3312, 3318, 3321, 3325, 3329, 3333, 3336, 3337, 3343, 3345, 3347, 3349, 3352, 3358, 3367, 3373, 3374, 3382, 3384, 3387, 3390, 3393, 3398, 3400, 3404, 3406, 3410, 3411, 3415, 3417, 3421, 3423, 3428, 3429, 3430, 3431, 3433, 3434, 3440, 3444, 3446, 3447, 3455, 3462, 3468, 3474, 3479, 3480, 3487, 3488, 3490, 3493, 3495, 3496, 3501, 3511, 3512, 3513, 3514, 3520, 3522, 3524, 3525, 3528, 3529, 3530, 3532, 3537, 3539, 3541, 3544, 3548, 3551, 3553, 3554, 3556, 3559, 3561, 3562, 3565, 3566, 3571, 3574, 3577, 3579, 3581, 3587, 3588, 3601, 3606, 3607, 3620, 3624, 3630, 3644, 3645, 3656, 3657, 3670, 3677, 3685, 3686, 3687, 3689, 3698, 3704, 3718, 3720, 3727, 3741, 3753, 3757, 3765, 3771, 3772, 3781, 3791, 3794, 3796, 3799, 3804, 3806, 3813, 3816, 3818, 3822, 3823, 3827, 3830, 3835, 3842, 3854, 3856, 3860, 3861, 3871, 3876, 3879, 3884, 3890, 3897, 3901, 3914, 3918, 3922, 3933, 3935, 3936, 3937, 3938, 3949, 3951, 3952, 3954, 3955, 3958, 3959, 3961, 3962, 3963, 3970, 3972, 3978, 3982, 3983, 3987, 3988, 3992, 3997, 3998, 4000, 4001, 4010, 4016, 4028, 4029, 4030, 4032, 4034, 4041, 4043, 4050, 4062, 4063, 4073, 4077, 4086, 4087, 4088, 4089, 4096, 4100, 4103, 4107, 4111, 4114, 4115, 4116, 4141, 4153, 4162, 4163, 4165, 4171, 4178, 4179, 4182, 4185, 4187, 4194, 4196, 4198, 4200, 4201, 4202, 4208, 4213, 4222, 4223, 4224, 4225, 4228, 4231, 4234, 4235, 4239, 4240, 4241, 4242, 4246, 4249, 4255, 4262, 4264, 4275, 4285, 4294, 4296, 4300, 4302, 4303, 4308, 4321, 4327, 4331, 4334, 4336, 4337, 4348, 4350, 4351, 4355, 4359, 4361, 4368, 4369, 4371, 4374, 4383, 4387, 4389, 4390, 4393, 4397, 4400, 4404, 4405, 4409, 4412, 4419, 4428, 4434, 4438, 4440, 4443, 4454, 4458, 4464, 4469, 4473, 4479]"
   ]
  },
  {
   "cell_type": "code",
   "execution_count": 121,
   "metadata": {},
   "outputs": [
    {
     "data": {
      "text/plain": [
       "1000"
      ]
     },
     "execution_count": 121,
     "metadata": {},
     "output_type": "execute_result"
    }
   ],
   "source": [
    "len(invalid_examples)"
   ]
  },
  {
   "cell_type": "code",
   "execution_count": 124,
   "metadata": {},
   "outputs": [],
   "source": [
    "with open(size6000_path, \"r\") as infile, open(\"../data/cleaned/finetuning_research_size5000_train.jsonl\", \"w\") as outfile:\n",
    "    for line_number, line in enumerate(infile):\n",
    "        # If the current line number is not in lines_to_remove, write it to the new file\n",
    "        if line_number not in invalid_examples:\n",
    "            outfile.write(line)"
   ]
  },
  {
   "cell_type": "code",
   "execution_count": 125,
   "metadata": {},
   "outputs": [],
   "source": [
    "train_response = openai.File.create(\n",
    "        file=open('../data/cleaned/finetuning_research_size5000_train.jsonl', \"rb\"),\n",
    "        purpose='fine-tune',\n",
    "        user_provided_filename=f'v2_train_size5000'\n",
    ")\n",
    "\n",
    "size5000_file_id = train_response['id']\n",
    "\n",
    "response_for_size_5000 = openai.FineTuningJob.create(\n",
    "        training_file=size5000_file_id,\n",
    "        model=\"gpt-3.5-turbo\"\n",
    ")\n"
   ]
  },
  {
   "cell_type": "markdown",
   "metadata": {},
   "source": [
    "## For some reason this one worked. \n",
    "I have no idea how. And I don't know what the dataset looks like. Because of this, I am going to see if I can fine-tune with a subset of the data and then explore the distribution of comments. If it won't train with a subset, there is a bug in OpenAI's api.\n",
    "\n",
    "Let's reuse the code above on the dataset that worked."
   ]
  },
  {
   "cell_type": "code",
   "execution_count": 136,
   "metadata": {},
   "outputs": [],
   "source": [
    "left_scores = []\n",
    "right_scores = []\n",
    "with open('../data/cleaned/finetuning_research_size5000_train.jsonl', 'r') as f:\n",
    "    for i, line in enumerate(f, start=1):\n",
    "        json_obj = json.loads(line)\n",
    "        role = 'right' if json_obj['messages'][0]['content'].split(' ')[3] == 'conservative' else 'left'\n",
    "        text = json_obj['messages'][2]['content']\n",
    "        score = get_toxicity_score(text)\n",
    "        if type(score) == list:\n",
    "            error = score[0]\n",
    "            score = -1\n",
    "        if role == 'right':\n",
    "            right_scores.append(score)\n",
    "        else:\n",
    "            left_scores.append(score)"
   ]
  },
  {
   "cell_type": "code",
   "execution_count": 137,
   "metadata": {},
   "outputs": [
    {
     "name": "stdout",
     "output_type": "stream",
     "text": [
      "[-1, -1, -1, -1, -1, -1, -1, -1, -1, -1, -1, -1, -1, -1, -1, -1, -1, -1, -1, -1, -1, -1, -1, -1, -1, -1, -1, -1, -1, -1, -1, -1, -1, -1, -1, -1, -1, -1, -1, -1, -1, -1, -1, -1, -1, -1, -1, -1, -1, -1, -1, -1, -1, -1, -1, -1, -1, -1, -1, -1, -1, -1, -1, -1, -1, -1, -1, -1, -1, -1, -1, -1, -1, -1, -1, -1, -1, -1, -1, -1, -1, -1, -1, -1, -1, -1, -1, -1, -1, -1, -1, -1, -1, -1, -1, -1, -1, -1, -1, -1, -1, -1, -1, -1, -1, -1, -1, -1, -1, -1, -1, -1, -1, -1, -1, -1, -1, -1, -1, -1, -1, -1, -1, -1, -1, -1, -1, -1, -1, -1, -1, -1, -1, -1, -1, -1, -1, -1, -1, -1, -1, -1, -1, -1, -1, -1, -1, -1, -1, -1, -1, -1, -1, -1, -1, -1, -1, -1, -1, -1, -1, -1, -1, -1, -1, -1, -1, -1, -1, -1, -1, -1, -1, -1, -1, -1, -1, -1, -1, -1, -1, -1, -1, -1, -1, -1, -1, -1, -1, -1, -1, -1, -1, -1, -1, -1, -1, -1, -1, -1, -1, -1, -1, -1, -1, -1, -1, -1, -1, -1, -1, -1, -1, -1, -1, -1, -1, -1, -1, -1, -1, -1, -1, -1, -1, -1, -1, -1, -1, -1, -1, -1, -1, -1, -1, -1, -1, -1, -1, -1, -1, -1, -1, -1, -1, -1, -1, -1, -1, -1, -1, -1, -1, -1, -1, -1, -1, -1, -1, -1, -1, -1, -1, -1, -1, -1, -1, -1, -1, -1, -1, -1, -1, -1, -1, -1, -1, -1, -1, -1, -1, -1, -1, -1, -1, -1, -1, -1, -1, -1, -1, -1, -1, -1, -1, -1, -1, -1, -1, -1, -1, -1, -1, -1, -1, -1, -1, -1, -1, -1, -1, -1, -1, -1, -1, -1, -1, -1, -1, -1, -1, -1, -1, -1, -1, -1, -1, -1, -1, -1, -1, -1, -1, -1, -1, -1, -1, -1, -1, -1, -1, -1, -1, -1, -1, -1, -1, -1, -1, -1, -1, -1, -1, -1, -1, -1, -1, -1, -1, -1, -1, -1, -1, -1, -1, -1, -1, -1, -1, -1, -1, -1, -1, -1, -1, -1, -1, -1, -1, -1, -1, -1, -1, -1, -1, -1, -1, -1, -1, -1, -1, -1, -1, -1, -1, -1, -1, -1, -1, -1, -1, -1, -1, -1, -1, -1, -1, -1, -1, -1, -1, -1, -1, -1, -1, -1, -1, -1, -1, -1, -1, -1, -1, -1, -1, -1, -1, -1, -1, -1, -1, -1, -1, -1, -1, -1, -1, -1, -1, -1, -1, -1, -1, -1, -1, -1, -1, -1, -1, -1, -1, -1, -1, -1, -1, -1, -1, -1, -1, -1, -1, -1, -1, -1, -1, -1, -1, -1, -1, -1, -1, -1, -1, -1, -1, -1, -1, -1, -1, -1, -1, -1, -1, -1, -1, -1, -1, -1, -1, -1, -1, -1, -1, -1, -1, -1, -1, -1, -1, -1, -1, -1, -1, -1, -1, -1, -1, -1, -1, -1, -1, -1, -1, -1, -1, -1, -1, -1, -1, -1, -1, -1, -1, -1, -1, -1, -1, -1, -1, -1, -1, -1, -1, -1, -1, -1, -1, -1, -1, -1, -1, -1, -1, -1, -1, -1, -1, -1, -1, -1, -1, -1, -1, -1, -1, -1, -1, -1, -1, -1, -1, -1, -1, -1, -1, -1, -1, -1, -1, -1, -1, -1, -1, -1, -1, -1, -1, -1, -1, -1, -1, -1, -1, -1, -1, -1, -1, -1, -1, -1, -1, -1, -1, -1, -1, -1, -1, -1, -1, -1, -1, -1, -1, -1, -1, -1, -1, -1, -1, -1, -1, -1, -1, -1, -1, -1, -1, -1, -1, -1, -1, -1, -1, -1, -1, -1, -1, -1, -1, -1, -1, -1, -1, -1, -1, -1, -1, -1, -1, -1, -1, -1, -1, -1, -1, -1, -1, -1, -1, -1, -1, -1, -1, -1, -1, -1, -1, -1, -1, -1, -1, -1, -1, -1, -1, -1, -1, -1, -1, -1, -1, -1, -1, -1, -1, -1, -1, -1, -1, -1, -1, -1, -1, -1, -1, -1, -1, -1, -1, -1, -1, -1, -1, -1, -1, -1, -1, -1, -1, -1, -1, -1, -1, -1, -1, -1, -1, -1, -1, -1, -1, -1, -1, -1, -1, -1, -1, -1, -1, -1, -1, -1, -1, -1, -1, -1, -1, -1, -1, -1, -1, -1, -1, -1, -1, -1, -1, -1, -1, -1, -1, -1, -1, -1, -1, -1, -1, -1, -1, -1, -1, -1, -1, -1, -1, -1, -1, -1, -1, -1, -1, -1, -1, -1, -1, -1, -1, -1, -1, -1, -1, -1, -1, -1, -1, -1, -1, -1, -1, -1, -1, -1, -1, -1, -1, -1, -1, -1, -1, -1, -1, -1, -1, -1, -1, -1, -1, -1, -1, -1, -1, -1, -1, -1, -1, -1, -1, -1, -1, -1, -1, -1, -1, -1, -1, -1, -1, -1, -1, -1, -1, -1, -1, -1, -1, -1, -1, -1, -1, -1, -1, -1, -1, -1, -1, -1, -1, 0.37751234, 0.04735767, -1, -1, -1, -1, 0.23667802, 0.04834723, -1, -1, 0.15269235, -1, -1, 0.07054565, -1, 0.15711457, -1, -1, -1, 0.0969861, -1, -1, 0.04216247, -1, 0.16678599, -1, 0.059727192, 0.112953395, 0.022728346, -1, 0.8629672, 0.4014846, 0.034513097, -1, 0.20312156, -1, 0.103494145, 0.0466155, 0.2540519, 0.85333383, -1, 0.47119883, 0.16098402, 0.009236055, 0.071337044, 0.0030786851, 0.15324512, 0.029799197, 0.112436704, 0.08795626, 0.11440011, -1, -1, -1, 0.10739898, 0.03828422, -1, 0.0077281278, 0.050078966, 0.11419344, 0.03781283, 0.19870108, 0.12867521, 0.056016337, 0.37576625, 0.009675868, 0.039226998, 0.40891263, 0.061444655, 0.08004235, 0.035220183, 0.02107848, 0.112953395, 0.20032968, 0.3561489, 0.07845957, 0.11305673, 0.037577134, 0.09655223, 0.019728716, 0.010806813, 0.147767, 0.4014846, 0.5566829, 0.2854869, -1, 0.07687678, 0.0201057, 0.01646154, 0.2648175, 0.04735767, 0.24924077, -1, 0.059479803, -1, -1, 0.030977672, 0.022139108, -1, 0.021432023, 0.06263174, -1, -1, -1, -1, -1, -1, -1, -1, -1, -1, 0.14082454, -1, -1, -1, 0.057005897, -1, 0.78207105, -1, -1, -1, -1, -1, -1, -1, -1, -1, -1, -1, -1, -1, -1, -1, -1, -1, -1, -1, -1, -1, -1, 0.051068526, -1, -1, -1, -1, -1, -1, -1, -1, -1, -1, -1, -1, -1, -1, -1, -1, -1, -1, -1, -1, -1, -1, -1, -1, -1, -1, -1, -1, -1, -1, -1, -1, -1, -1, -1, -1, -1, -1, -1, -1, -1, -1, -1, -1, -1, -1, -1, -1, -1, -1, -1, -1, -1, -1, -1, -1, -1, -1, -1, -1, -1, -1, -1, -1, -1, -1, -1, -1, -1, -1, -1, -1, -1, -1, -1, -1, -1, -1, -1, -1, -1, -1, -1, -1, -1, -1, -1, -1, -1, -1, -1, -1, -1, -1, -1, -1, -1, -1, -1, -1, -1, -1, -1, -1, -1, -1, -1, -1, -1, -1, -1, -1, -1, -1, -1, -1, -1, -1, -1, -1, -1, -1, -1, -1, -1, -1, -1, -1, -1, -1, -1, -1, -1, -1, -1, -1, -1, -1, -1, -1, -1, -1, -1, -1, -1, -1, -1, -1, -1, -1, -1, -1, -1, -1, -1, -1, -1, -1, -1, -1, -1, -1, -1, -1, -1, -1, -1, -1, -1, -1, -1, -1, -1, -1, -1, -1, -1, -1, -1, -1, -1, -1, -1, -1, -1, -1, -1, -1, -1, -1, -1, -1, -1, -1, -1, -1, -1, -1, -1, -1, -1, -1, -1, -1, -1, -1, -1, -1, -1, -1, -1, -1, -1, -1, -1, -1, -1, -1, -1, -1, -1, -1, -1, -1, -1, -1, -1, -1, -1, -1, -1, -1, -1, -1, -1, -1, -1, -1, -1, -1, -1, -1, -1, -1, -1, -1, -1, -1, -1, -1, -1, -1, -1, -1, -1, -1, -1, -1, -1, -1, -1, -1, -1, -1, -1, -1, -1, -1, -1, -1, -1, -1, -1, -1, -1, -1, -1, -1, -1, -1, -1, -1, -1, -1, -1, -1, -1, -1, -1, -1, -1, -1, -1, -1, -1, -1, -1, -1, -1, -1, -1, -1, -1, -1, -1, -1, -1, -1, -1, -1, -1, -1, -1, -1, -1, -1, -1, -1, -1, -1, -1, -1, -1, -1, -1, -1, -1, -1, -1, -1, -1, -1, -1, -1, -1, -1, -1, -1, -1, -1, -1, -1, -1, -1, -1, -1, -1, -1, -1, -1, -1, -1, -1, -1, -1, -1, -1, -1, -1, -1, -1, -1, -1, -1, -1, -1, -1, -1, -1, -1, -1, -1, -1, -1, -1, -1, -1, -1, -1, -1, -1, -1, -1, -1, -1, -1, -1, -1, -1, -1, -1, -1, -1, -1, -1, -1, -1, -1, -1, -1, -1, -1, -1, -1, -1, -1, -1, -1, -1, -1, -1, -1, -1, -1, -1, -1, -1, -1, -1, -1, -1, -1, -1, -1, -1, -1, -1, -1, -1, -1, -1, -1, -1, -1, -1, -1, -1, -1, -1, -1, -1, -1, -1, -1, -1, -1, -1, -1, -1, -1, -1, -1, -1, -1, -1, -1, -1, -1, -1, -1, -1, -1, -1, -1, -1, -1, -1, -1, -1, -1, -1, -1, -1, -1, -1, -1, -1, -1, -1, -1, -1, -1, -1, -1, -1, -1, -1, -1, -1, -1, -1, -1, -1, -1, -1, -1, -1, -1, -1, -1, -1, -1, -1, -1, -1, -1, -1, -1, -1, -1, -1, -1, -1, -1, -1, -1, -1, -1, -1, -1, -1, -1, -1, -1, -1, -1, -1, -1, -1, -1, -1, -1, -1, -1, -1, -1, -1, -1, -1, -1, -1, -1, -1, -1, -1, -1, -1, -1, -1, -1, -1, -1, -1, -1, -1, -1, -1, -1, -1, -1, -1, -1, -1, -1, -1, -1, -1, -1, -1, -1, -1, -1, -1, -1, -1, -1, -1, -1, -1, -1, -1, -1, -1, -1, -1, -1, -1, -1, -1, -1, -1, -1, -1, -1, -1, -1, -1, -1, -1, -1, -1, -1, -1, -1, -1, -1, -1, -1, -1, -1, -1, -1, -1, -1, -1, -1, -1, -1, -1, -1, -1, -1, -1, -1, -1, -1, -1, -1, -1, -1, -1, -1, -1, -1, -1, -1, -1, -1, -1, -1, -1, -1, -1, -1, -1, -1, -1, -1, -1, -1, -1, -1, -1, -1, -1, -1, -1, -1, -1, -1, -1, -1, -1, -1, -1, -1, -1, -1, -1, -1, -1, -1, -1, -1, -1, -1, -1, -1, -1, -1, -1, -1, -1, -1, -1, -1, -1, -1, -1, -1, -1, -1, -1, -1, -1, -1, -1, -1, -1, -1, -1, -1, -1, -1, -1, -1, -1, -1, -1, -1, -1, -1, -1, -1, -1, -1, -1, -1, -1, -1, -1, -1, -1, -1, -1, -1, -1, -1, -1, -1, -1, -1, -1, -1, -1, -1, -1, -1, -1, -1, -1, -1, -1, -1, -1, -1, -1, -1, -1, -1, -1, -1, -1, -1, -1, -1, -1, -1, -1, -1, -1, -1, -1, -1, -1, -1, -1, -1, -1, -1, -1, -1, -1, -1, -1, -1, -1, -1, -1, -1, -1, -1, -1, -1, -1, -1, -1, -1, -1, -1, -1, -1, -1, -1, -1, -1, -1, -1, -1, -1, -1, -1, -1, -1, -1, -1, -1, -1, -1, -1, -1, -1, -1, -1, -1, -1, -1, -1, -1, -1, -1, -1, -1, -1, -1, -1, -1, -1, -1, -1, -1, -1, -1, -1, -1, -1, -1, -1, -1, -1, -1, -1, -1, -1, -1, -1, -1, -1, -1, -1, -1, -1, -1, -1, -1, -1, -1, -1, -1, -1, -1, -1, -1, -1, -1, -1, -1, -1, -1, -1, -1, -1, -1, -1, -1, -1, -1, -1, -1, -1, -1, -1, -1, -1, -1, -1, -1, -1, -1, -1, -1, -1, -1, -1, -1, -1, -1, -1, -1, -1, -1, -1, -1, -1, -1, -1, -1, -1, -1, -1, -1, -1, -1, -1, -1, -1, -1, -1, -1, -1, -1, -1, -1, -1, -1, -1, -1, -1, -1, -1, -1, -1, -1, -1, -1, -1, -1, -1, -1, -1, -1, -1, -1, -1, -1, -1, -1, -1, -1, -1, -1, -1, -1, -1, -1, -1, -1, -1, -1, -1, -1, -1, -1, -1, -1, -1, -1, -1, -1, -1, -1, -1, -1, -1, -1, -1, -1, -1, -1, -1, -1, -1, -1, -1, -1, -1, -1, -1, -1, -1, -1, -1, -1, -1, -1, -1, -1, -1, -1, -1, -1, -1, -1, -1, -1, -1, -1, -1, -1, -1, -1, -1, -1, -1, -1, -1, -1, -1, -1, -1, -1, -1, -1, -1, -1, -1, -1, -1, -1, -1, -1, -1, -1, -1, -1, -1, -1, -1, -1, -1, -1, -1, -1, -1, -1, -1, -1, -1, -1, -1, -1, -1, -1, -1, -1, -1, -1, -1, -1, -1, -1, -1, -1, -1, -1, -1, -1, -1, -1, -1, -1, -1, -1, -1, -1, -1, -1, -1, -1, -1, -1, -1, -1, -1, -1, -1, -1, -1, -1, -1, -1, -1, -1, -1, -1, -1, -1, -1, -1, -1, -1, -1, -1, -1, -1, -1, -1, -1, -1, -1, -1, -1, -1, -1, -1, -1, -1, -1, -1, -1, -1, -1, -1, -1, -1, -1, -1, -1, -1, -1, -1, -1, -1, -1, -1, -1, -1, -1, -1, -1, -1, -1, -1, -1, -1, -1, -1, -1, -1, -1, -1, -1, -1, -1, -1, -1, -1, -1, -1, -1, -1, -1, -1, -1, -1, -1, -1, -1, -1, -1, -1, -1, -1, -1, -1, -1, -1, -1, -1, -1, -1, -1, -1, -1, -1, -1, -1, -1, -1, -1, -1, -1, -1, -1, -1, -1, -1, -1, -1, -1, -1, -1, -1, -1, -1, -1, -1, -1, -1, -1, -1, -1, -1, -1, -1, -1, -1, -1, -1, -1, -1, -1, -1, -1, -1, -1, -1, -1, -1, -1, -1, -1, -1, -1, -1, -1, -1, -1, -1, -1, -1, -1, -1, -1, -1, -1, -1, -1, -1, -1, -1, -1, -1, -1, -1, -1, -1, -1, -1, -1, -1, -1, -1, -1, -1, -1, -1, -1, -1, -1, -1, -1, -1, -1, -1, -1, -1, -1, -1, -1, -1, -1, -1, -1, -1, -1, -1, -1, -1, -1, -1, -1, -1, -1, -1, -1, -1, -1, -1, -1, -1, -1, -1, -1, -1, -1, -1, -1, -1, -1, -1, -1, -1, -1, -1, -1, -1, -1, -1, -1, -1, -1, -1, -1, -1, -1, -1, -1, -1, -1, -1, -1, -1, -1, -1, -1, -1, -1, -1, 0.021196328, -1, -1, -1, -1, -1, -1, -1, -1, 0.19986437, -1, -1, 0.5716857, 0.08795626, -1, -1, -1, 0.3389984, -1, 0.022021262, 0.079250954, -1, 0.3389984, 0.3666224, -1, -1, -1, -1, -1, -1, 0.05131592, 0.25462922, 0.027913637, 0.012314741, -1, -1, 0.83334327, 0.61223894, -1, -1, -1, 0.028620722, -1, 0.015581916, 0.034748793, 0.028620722, 0.0143253105, 0.45757914, 0.12867521, -1, 0.2855005, 0.015016444, 0.04166769, -1, -1, 0.017466826, 0.014450971, 0.091913216, 0.20973456, 0.022846194, 0.36095104, 0.19789438, 0.17545098, 0.054037213, 0.45549932, 0.52811706, 0.017341165, 0.4269174, 0.01633588, 0.3302291, 0.15545623, -1, 0.3974717, 0.44393396, 0.47622904, 0.5716857, 0.50789946, 0.687436, 0.13214645, 0.09958932, 0.017089844, 0.11347008, 0.007759543, 0.09525062, 0.33421695, 0.34757367, 0.47886392, 0.5885171, 0.021314176, -1, 0.024849601, 0.011937759, 0.25462922, 0.27412915, 0.34757367, 0.13388206, -1, 0.11161, -1, -1, 0.8403191, 0.0027331184, -1, -1, 0.2412222, -1, 0.011497946, -1, -1, -1, -1, -1, -1, -1, -1, -1, -1, -1, -1, -1, -1, 0.8696708, -1, -1, -1, -1, -1, 0.08716487, -1, -1, -1, -1, 0.19893374, -1, -1, -1, -1, -1, -1, -1, -1, -1, -1, -1, -1, -1, -1, -1, -1, -1, -1, -1, -1, -1, -1, -1, -1, -1, -1, -1, -1, -1, -1, -1, -1, -1, -1, -1, -1, -1, -1, -1, -1, -1, -1, -1, -1, -1, -1, -1, -1, -1, -1, -1, -1, -1, -1, -1, -1, -1, -1, -1, -1, -1, -1, -1, -1, -1, -1, -1, -1, -1, -1, -1, -1, -1, -1, -1, -1, -1, -1, -1, -1, -1, -1, -1, -1, -1, -1, -1, -1, -1, -1, -1, -1, -1, -1, -1, -1, -1, -1, -1, -1, -1, -1, -1, -1, -1, -1, -1, -1, -1, -1, -1, -1, -1, -1, -1, -1, -1, -1, -1, -1, -1, -1, -1, -1, -1, -1, -1, -1, -1, -1, -1, -1, -1, -1, -1, -1, -1, -1, -1, -1, -1, -1, -1, -1, -1, -1, -1, -1, -1, -1, -1, -1, -1, -1, -1, -1, -1, -1, -1, -1, -1, -1, -1, -1, -1, -1, -1, -1, -1, -1, -1, -1, -1, -1, -1, -1, -1, -1, -1, -1, -1, -1, -1, -1, -1, -1, -1, -1, -1, -1, -1, -1, -1, -1, -1, -1, -1, -1, -1, -1, -1, -1, -1, -1, -1]\n",
      "Total left invalid lines: 2345\n",
      "Total left lines which could be assessed for toxicity: 219\n",
      "Average toxicity score for left lines able to be assesed: 0.15828928269634707\n",
      "\n",
      "Total right invalid lines: 2655\n",
      "Total right lines which could be assessed for toxicity: 148\n",
      "Average toxicity score for right lines able to be assesed: 0.19140915691756757\n"
     ]
    },
    {
     "data": {
      "image/png": "[encoded data removed]",
      "text/plain": [
       "<Figure size 640x480 with 2 Axes>"
      ]
     },
     "metadata": {},
     "output_type": "display_data"
    }
   ],
   "source": [
    "\n",
    "print(right_scores)\n",
    "num_left_invalid = len(left_scores)\n",
    "num_right_invalid = len(right_scores)\n",
    "\n",
    "num_left_assessable = len(np.where(np.array(left_scores) != -1)[0].tolist())\n",
    "num_right_assessable = len(np.where(np.array(right_scores) != -1)[0].tolist())\n",
    "\n",
    "mean_toxicity_left = np.mean(np.array(left_scores)[np.where(np.array(left_scores) != -1)[0]])\n",
    "mean_toxicity_right = np.mean(np.array(right_scores)[np.where(np.array(right_scores) != -1)[0]])\n",
    "\n",
    "print(\"Total left invalid lines:\", num_left_invalid)\n",
    "print(\"Total left lines which could be assessed for toxicity:\", num_left_assessable)\n",
    "print(\"Average toxicity score for left lines able to be assesed:\", mean_toxicity_left)\n",
    "print()\n",
    "print(\"Total right invalid lines:\", num_right_invalid)\n",
    "print(\"Total right lines which could be assessed for toxicity:\", num_right_assessable)\n",
    "print(\"Average toxicity score for right lines able to be assesed:\", mean_toxicity_right)\n",
    "\n",
    "# Bar Chart\n",
    "labels = ['Left', 'Right']\n",
    "invalid_counts = [num_left_invalid, num_right_invalid]\n",
    "valid_counts = [num_left_assessable, num_right_assessable]\n",
    "avg_toxicity = [mean_toxicity_left, mean_toxicity_right]\n",
    "\n",
    "x = np.arange(len(labels))\n",
    "\n",
    "width = 0.3\n",
    "\n",
    "fig, ax1 = plt.subplots()\n",
    "\n",
    "color = 'tab:red'\n",
    "ax1.set_xlabel('Group')\n",
    "ax1.set_ylabel('Number of Lines', color=color)\n",
    "ax1.bar(x - width/2, invalid_counts, width, color='r', label='Invalid Lines')\n",
    "ax1.bar(x + width/2, valid_counts, width, color='g', label='Lines Assessable For Toxicity')\n",
    "ax1.tick_params(axis='y', labelcolor=color)\n",
    "ax1.set_xticks(x)\n",
    "ax1.set_xticklabels(labels)\n",
    "\n",
    "ax2 = ax1.twinx()\n",
    "color = 'tab:blue'\n",
    "ax2.set_ylabel('Avg Toxicity', color=color)\n",
    "ax2.bar(x + width*1.5, avg_toxicity, width, color='b', label='Avg Toxicity')\n",
    "ax2.tick_params(axis='y', labelcolor=color)\n",
    "\n",
    "fig.tight_layout()\n",
    "fig.legend(loc=\"upper left\", bbox_to_anchor=(0.1, 0))\n",
    "plt.title('Comparison of Invalid Lines, Valid Lines, and Avg Toxicity for Left and Right')\n",
    "plt.show()\n"
   ]
  },
  {
   "cell_type": "markdown",
   "metadata": {},
   "source": [
    "# TODO MAYBE: TEST WITH A 1000 SUBSET OF THE 5000 SET AND SEE IF IT'S ALLOWED. IF IT ISN'T, THERE IS A BUG."
   ]
  },
  {
   "cell_type": "markdown",
   "metadata": {},
   "source": [
    "It appears that the file that was trained on approximately even numbers of left and right comments. It appears that the average toxicity of the right comments is slightly higher but nothing agregious on either side, although not many of the comments were able to be scored. \n",
    "\n",
    "Next we move on to testing the models in 300_gpt_finetuned_testing."
   ]
  }
 ],
 "metadata": {
  "kernelspec": {
   "display_name": "youtube_llm",
   "language": "python",
   "name": "python3"
  },
  "language_info": {
   "codemirror_mode": {
    "name": "ipython",
    "version": 3
   },
   "file_extension": ".py",
   "mimetype": "text/x-python",
   "name": "python",
   "nbconvert_exporter": "python",
   "pygments_lexer": "ipython3",
   "version": "3.10.12"
  }
 },
 "nbformat": 4,
 "nbformat_minor": 2
}
